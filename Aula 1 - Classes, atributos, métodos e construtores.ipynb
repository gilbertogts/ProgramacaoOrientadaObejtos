{
 "cells": [
  {
   "cell_type": "markdown",
   "metadata": {},
   "source": [
    "## Aula 1 - Classes, atributos, métodos e construtores"
   ]
  },
  {
   "cell_type": "code",
   "execution_count": 24,
   "metadata": {},
   "outputs": [],
   "source": [
    "# Classes: são tipos de dados que podem conter atributos e métodos.\n",
    "# Atributos: são análogos as variáveis.\n",
    "# Métodos: são análogos as funções."
   ]
  },
  {
   "cell_type": "code",
   "execution_count": 2,
   "metadata": {},
   "outputs": [],
   "source": [
    "# Em Python usamos a palavra reservada 'class' para definir uma classe.\n",
    "# Inicialmente, vamos criar uma classe vazia.\n",
    "\n",
    "class Veiculo():\n",
    "    pass"
   ]
  },
  {
   "cell_type": "code",
   "execution_count": 3,
   "metadata": {},
   "outputs": [],
   "source": [
    "# Então vamos instanciar (criar) um objeto a partir dessa classe.\n",
    "\n",
    "carro = Veiculo()"
   ]
  },
  {
   "cell_type": "code",
   "execution_count": 4,
   "metadata": {},
   "outputs": [],
   "source": [
    "# Agora vamos criar um atributo para esse objeto. Fazemos isso a partir do nome do \n",
    "# objeto, mais o carater '.' e definindo um nome e um valor para o atributo.\n",
    "\n",
    "carro.cor = 'branco'"
   ]
  },
  {
   "cell_type": "code",
   "execution_count": 5,
   "metadata": {},
   "outputs": [
    {
     "data": {
      "text/plain": [
       "'branco'"
      ]
     },
     "execution_count": 5,
     "metadata": {},
     "output_type": "execute_result"
    }
   ],
   "source": [
    "# Invocando esse atributo, o Python nos retorna o seu valor.\n",
    "\n",
    "carro.cor"
   ]
  },
  {
   "cell_type": "code",
   "execution_count": 6,
   "metadata": {},
   "outputs": [],
   "source": [
    "# Para criarmos um método, vamos primeiramente definir uma função.\n",
    "\n",
    "def especificacao():\n",
    "    print('Estas são as especificações do veículo')"
   ]
  },
  {
   "cell_type": "code",
   "execution_count": 7,
   "metadata": {},
   "outputs": [],
   "source": [
    "# Então fazemos da mesma forma que fizemos para os atributos. Porém, agora vamos passar \n",
    "# uma função como valor. Observe que fazemos isso sem o uso dos parênteses.\n",
    "\n",
    "carro.espec = especificacao"
   ]
  },
  {
   "cell_type": "code",
   "execution_count": 8,
   "metadata": {},
   "outputs": [
    {
     "name": "stdout",
     "output_type": "stream",
     "text": [
      "Estas são as especificações do veículo\n"
     ]
    }
   ],
   "source": [
    "# Utilizando os parênteses estaremos invocando o método para que o mesmo seja executado.\n",
    "\n",
    "carro.espec()"
   ]
  },
  {
   "cell_type": "code",
   "execution_count": 9,
   "metadata": {},
   "outputs": [],
   "source": [
    "# Ao definimos uma classe, o Pythom cria automaticamente vários atributos e métodos \n",
    "# internos de uso específico. Esses atributos e métodos tem seus nomes definidos \n",
    "# iniciando e terminando com dois underlines. Um desses métodos é o '__init__'. \n",
    "# Ele é invocado toda vez que um novo objeto é instanciado."
   ]
  },
  {
   "cell_type": "code",
   "execution_count": 10,
   "metadata": {},
   "outputs": [],
   "source": [
    "# Construtor: é o método responsável por definir as características iniciais dos \n",
    "# objetos criados. Em Python o método '__init__' é o método construtor."
   ]
  },
  {
   "cell_type": "code",
   "execution_count": 11,
   "metadata": {},
   "outputs": [],
   "source": [
    "# Este método é responsável por definir os atributos que todos os objetos criados a \n",
    "# partir da classe terão. Imagine como se fosse uma fábrica onde todos os produtos \n",
    "# precisam sair iguais."
   ]
  },
  {
   "cell_type": "code",
   "execution_count": 12,
   "metadata": {},
   "outputs": [],
   "source": [
    "# Vamos definir uma classe 'Aluno' com dois atributos 'nome' e 'nota' que serão \n",
    "# iniciados com valor nulo. Vejamos como fica:\n",
    "\n",
    "class Aluno():\n",
    "    def __init__(self):\n",
    "        self.nome = None\n",
    "        self.nota = None"
   ]
  },
  {
   "cell_type": "code",
   "execution_count": 13,
   "metadata": {},
   "outputs": [],
   "source": [
    "# O parâmetro 'self' passado para o método '__init__' faz referência ao próprio objeto\n",
    "# que está sendo criado. A princípio, vamos considerar que todos os métodos criados \n",
    "# precisam receber obrigatoriamente o parâmetro 'self'."
   ]
  },
  {
   "cell_type": "code",
   "execution_count": 14,
   "metadata": {},
   "outputs": [],
   "source": [
    "# Podemos passar também como parâmetros os valores para inicialização dos atributos \n",
    "# do objeto.\n",
    "\n",
    "class Aluno():\n",
    "    def __init__(self, nome, nota):\n",
    "        self.nome = nome\n",
    "        self.nota = nota"
   ]
  },
  {
   "cell_type": "code",
   "execution_count": 15,
   "metadata": {},
   "outputs": [
    {
     "name": "stdout",
     "output_type": "stream",
     "text": [
      "Nome: Fulano - Nota: 9 \n",
      "\n",
      "Nome: Ciclano - Nota: 10 \n",
      "\n"
     ]
    }
   ],
   "source": [
    "# Vejamos como fica:\n",
    "\n",
    "aluno1 = Aluno('Fulano', 9)\n",
    "aluno2 = Aluno('Ciclano', 10)\n",
    "print(\"Nome: {} - Nota: {} \\n\" .format(aluno1.nome, aluno1.nota))\n",
    "print(\"Nome: {} - Nota: {} \\n\" .format(aluno2.nome, aluno2.nota))"
   ]
  },
  {
   "cell_type": "code",
   "execution_count": 16,
   "metadata": {},
   "outputs": [],
   "source": [
    "# Vamos ver outro exmplo."
   ]
  },
  {
   "cell_type": "code",
   "execution_count": 17,
   "metadata": {},
   "outputs": [],
   "source": [
    "class Pessoa():\n",
    "    def __init__(self, nome, peso, altura):\n",
    "        self.nome = nome\n",
    "        self.peso = peso\n",
    "        self.altura = altura\n",
    "    \n",
    "    def imc(self):\n",
    "        return self.peso/(self.altura**2)"
   ]
  },
  {
   "cell_type": "code",
   "execution_count": 18,
   "metadata": {},
   "outputs": [],
   "source": [
    "# Também podemos passar os parâmetos de forma nomeada.\n",
    "\n",
    "pessoa1 = Pessoa(nome='Fulano', peso=70.0, altura=1.80)"
   ]
  },
  {
   "cell_type": "code",
   "execution_count": 19,
   "metadata": {},
   "outputs": [
    {
     "data": {
      "text/plain": [
       "21.604938271604937"
      ]
     },
     "execution_count": 19,
     "metadata": {},
     "output_type": "execute_result"
    }
   ],
   "source": [
    "pessoa1.imc()"
   ]
  },
  {
   "cell_type": "code",
   "execution_count": 20,
   "metadata": {},
   "outputs": [
    {
     "name": "stdout",
     "output_type": "stream",
     "text": [
      "Fulano tem 1.80 m de de altura, 70.00 kg de peso e seu IMS é 21.60\n"
     ]
    }
   ],
   "source": [
    "print(\"%s tem %.2f m de de altura, %.2f kg de peso e seu IMS é %.2f\"\n",
    "      % (pessoa1.nome, pessoa1.altura, pessoa1.peso, pessoa1.imc()))"
   ]
  },
  {
   "cell_type": "code",
   "execution_count": 21,
   "metadata": {},
   "outputs": [],
   "source": [
    "# Teste a definição e invocação dos atributos e métodos."
   ]
  },
  {
   "cell_type": "code",
   "execution_count": 22,
   "metadata": {},
   "outputs": [],
   "source": [
    "# Até a próxima aula!"
   ]
  }
 ],
 "metadata": {
  "kernelspec": {
   "display_name": "Python 3",
   "language": "python",
   "name": "python3"
  },
  "language_info": {
   "codemirror_mode": {
    "name": "ipython",
    "version": 3
   },
   "file_extension": ".py",
   "mimetype": "text/x-python",
   "name": "python",
   "nbconvert_exporter": "python",
   "pygments_lexer": "ipython3",
   "version": "3.7.6"
  }
 },
 "nbformat": 4,
 "nbformat_minor": 4
}
