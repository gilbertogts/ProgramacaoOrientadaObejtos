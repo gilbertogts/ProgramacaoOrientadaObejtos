{
 "cells": [
  {
   "cell_type": "markdown",
   "metadata": {},
   "source": [
    "## Aula 5 - Sobrecarga e composição"
   ]
  },
  {
   "cell_type": "code",
   "execution_count": 1,
   "metadata": {},
   "outputs": [],
   "source": [
    "# Sobrecarga é o ato de fornecer uma quantidade variável de parâmetros para um método.\n",
    "# Em Python podemos passar uma tupla de parâmetros utilizando o caracter '*'.\n",
    "# E também podemos passar um dicionário de parâmetros através dos caracteres '**'."
   ]
  },
  {
   "cell_type": "code",
   "execution_count": 2,
   "metadata": {},
   "outputs": [],
   "source": [
    "# Vamos criar uma classe 'Calculadora' que receberá 'n' valores como argumento.\n",
    "\n",
    "class Calculadora():\n",
    "    \n",
    "    @staticmethod\n",
    "    def add(*args):\n",
    "        res = 0\n",
    "        for num in args:\n",
    "            res += num\n",
    "        return res"
   ]
  },
  {
   "cell_type": "code",
   "execution_count": 3,
   "metadata": {},
   "outputs": [
    {
     "data": {
      "text/plain": [
       "1"
      ]
     },
     "execution_count": 3,
     "metadata": {},
     "output_type": "execute_result"
    }
   ],
   "source": [
    "# O método 'add' irá somar todos os valores passados como parâmetro, independente \n",
    "# de quantos sejam.\n",
    "\n",
    "Calculadora.add(1)"
   ]
  },
  {
   "cell_type": "code",
   "execution_count": 4,
   "metadata": {},
   "outputs": [
    {
     "data": {
      "text/plain": [
       "6"
      ]
     },
     "execution_count": 4,
     "metadata": {},
     "output_type": "execute_result"
    }
   ],
   "source": [
    "Calculadora.add(1, 2, 3)"
   ]
  },
  {
   "cell_type": "code",
   "execution_count": 5,
   "metadata": {},
   "outputs": [
    {
     "data": {
      "text/plain": [
       "15"
      ]
     },
     "execution_count": 5,
     "metadata": {},
     "output_type": "execute_result"
    }
   ],
   "source": [
    "Calculadora.add(1, 2, 3, 4, 5)"
   ]
  },
  {
   "cell_type": "code",
   "execution_count": 6,
   "metadata": {},
   "outputs": [],
   "source": [
    "# Agora vamos criar uma classe 'Lista' que receberá um conjunto de 'chave: valor' \n",
    "# como argumento.\n",
    "\n",
    "class Lista():\n",
    "    \n",
    "    @staticmethod\n",
    "    def compras(**kwargs):\n",
    "        for chave, valor in kwargs.items():\n",
    "            print(chave + ': ' + valor) "
   ]
  },
  {
   "cell_type": "code",
   "execution_count": 7,
   "metadata": {},
   "outputs": [
    {
     "name": "stdout",
     "output_type": "stream",
     "text": [
      "arroz: 1 pacote\n"
     ]
    }
   ],
   "source": [
    "# O método 'compras' irá imprimir na tela todos as 'chave: valor' passadas como parâmetro,\n",
    "# independente de quantos sejam.\n",
    "\n",
    "Lista.compras(arroz='1 pacote')"
   ]
  },
  {
   "cell_type": "code",
   "execution_count": 8,
   "metadata": {
    "scrolled": true
   },
   "outputs": [
    {
     "name": "stdout",
     "output_type": "stream",
     "text": [
      "arroz: 1 pacote\n",
      "feijão: 3 pacotes\n",
      "oleo: duas latas\n"
     ]
    }
   ],
   "source": [
    "Lista.compras( arroz='1 pacote', feijão='3 pacotes', oleo='duas latas')"
   ]
  },
  {
   "cell_type": "code",
   "execution_count": 9,
   "metadata": {},
   "outputs": [],
   "source": [
    "# Também podemos passar os parâmetros das três formas que estudamos simultaneamente.\n",
    "# Porém é necessário respeitar esta ordem de precedência.\n",
    "\n",
    "class Pedido():\n",
    "    \n",
    "    @staticmethod\n",
    "    def fazer_pedido(nome, *produtos, **observacoes):\n",
    "        print(nome)\n",
    "        for item in produtos:\n",
    "            print(item)\n",
    "        for chave, valor in observacoes.items():\n",
    "            print(chave + ': ' + valor)"
   ]
  },
  {
   "cell_type": "code",
   "execution_count": 10,
   "metadata": {},
   "outputs": [
    {
     "name": "stdout",
     "output_type": "stream",
     "text": [
      "Fulado\n",
      "refrigerante\n",
      "hamburgue\n",
      "bacon: 2 fatias\n",
      "molho: especial\n"
     ]
    }
   ],
   "source": [
    "Pedido.fazer_pedido('Fulado', 'refrigerante', 'hamburgue', bacon='2 fatias',\n",
    "                    molho='especial')"
   ]
  },
  {
   "cell_type": "code",
   "execution_count": 11,
   "metadata": {},
   "outputs": [],
   "source": [
    "# Commposição é o ato de gerar classes onde seus atributos são definidos a partir\n",
    "# da instância de outras classes."
   ]
  },
  {
   "cell_type": "code",
   "execution_count": 12,
   "metadata": {},
   "outputs": [],
   "source": [
    "# Vamos criar uma classe 'Endereco':\n",
    "\n",
    "class Endereco():\n",
    "    \n",
    "    def __init__(self, rua, numero, cidade):\n",
    "        self._rua = rua\n",
    "        self._numero = numero\n",
    "        self._cidade = cidade\n",
    "        \n",
    "    @property\n",
    "    def rua(self):\n",
    "        return self._rua\n",
    "    \n",
    "    @rua.setter\n",
    "    def rua(self, rua):\n",
    "        self._rua = rua\n",
    "    \n",
    "    @property\n",
    "    def numero(self):\n",
    "        return self._numero\n",
    "    \n",
    "    @numero.setter\n",
    "    def numero(self, numero):\n",
    "        self._numero = numero\n",
    "    \n",
    "    @property\n",
    "    def cidade(self):\n",
    "        return self._cidade\n",
    "    \n",
    "    @cidade.setter\n",
    "    def cidade(self, cidade):\n",
    "        self._cidade = cidade"
   ]
  },
  {
   "cell_type": "code",
   "execution_count": 13,
   "metadata": {},
   "outputs": [],
   "source": [
    "# Agora vamos criar uma classe aluno que terá um atributo do tipo 'Endereco'.\n",
    "\n",
    "class Aluno():\n",
    "    \n",
    "    def __init__(self, nome, rua, numero, cidade):\n",
    "        self._nome = nome\n",
    "        self._endereco = Endereco(rua, numero, cidade)\n",
    "        \n",
    "    @property\n",
    "    def nome(self):\n",
    "        return self._nome\n",
    "    \n",
    "    @nome.setter\n",
    "    def nome(self, nome):\n",
    "        self._nome = nome\n",
    "    \n",
    "    @property\n",
    "    def endereco(self):\n",
    "        return self._endereco\n",
    "    \n",
    "    @endereco.setter\n",
    "    def endereco(self, endereco):\n",
    "        if isinstance(endereco, Endereco):\n",
    "            self._endereco = endereco\n",
    "        else:\n",
    "            raise TypeError(\"O valor deste atributo deve ser um objeto da classe Endereco.\")"
   ]
  },
  {
   "cell_type": "code",
   "execution_count": 14,
   "metadata": {},
   "outputs": [],
   "source": [
    "# Então instanciamos o objeto 'aluno1' passando os parâmetros para criar tanto o objeto \n",
    "# 'aluno' quanto do obejto 'endereco'.\n",
    "\n",
    "aluno1 = Aluno(nome='Fulano', rua='A', numero=1, cidade='Belo Horizonte')"
   ]
  },
  {
   "cell_type": "code",
   "execution_count": 15,
   "metadata": {},
   "outputs": [
    {
     "data": {
      "text/plain": [
       "'Fulano'"
      ]
     },
     "execution_count": 15,
     "metadata": {},
     "output_type": "execute_result"
    }
   ],
   "source": [
    "# Acessamos o nome invocando o atributo 'nome':\n",
    "\n",
    "aluno1.nome"
   ]
  },
  {
   "cell_type": "code",
   "execution_count": 16,
   "metadata": {},
   "outputs": [
    {
     "data": {
      "text/plain": [
       "<__main__.Endereco at 0x148ac84fcc8>"
      ]
     },
     "execution_count": 16,
     "metadata": {},
     "output_type": "execute_result"
    }
   ],
   "source": [
    "# E se invocarmos o atributo 'endereco', receberemos a instância do objeto da classe \n",
    "# 'Endereco' armazenada neste atributo.\n",
    "\n",
    "aluno1.endereco"
   ]
  },
  {
   "cell_type": "code",
   "execution_count": 17,
   "metadata": {},
   "outputs": [
    {
     "data": {
      "text/plain": [
       "'A'"
      ]
     },
     "execution_count": 17,
     "metadata": {},
     "output_type": "execute_result"
    }
   ],
   "source": [
    "# Acessarmos os atributos do objeto 'endereco' assim:\n",
    "\n",
    "aluno1.endereco.rua"
   ]
  },
  {
   "cell_type": "code",
   "execution_count": 18,
   "metadata": {},
   "outputs": [
    {
     "data": {
      "text/plain": [
       "1"
      ]
     },
     "execution_count": 18,
     "metadata": {},
     "output_type": "execute_result"
    }
   ],
   "source": [
    "aluno1.endereco.numero"
   ]
  },
  {
   "cell_type": "code",
   "execution_count": 19,
   "metadata": {},
   "outputs": [
    {
     "data": {
      "text/plain": [
       "'Belo Horizonte'"
      ]
     },
     "execution_count": 19,
     "metadata": {},
     "output_type": "execute_result"
    }
   ],
   "source": [
    "aluno1.endereco.cidade"
   ]
  },
  {
   "cell_type": "code",
   "execution_count": 20,
   "metadata": {},
   "outputs": [],
   "source": [
    "# Note que colocamos uma condicional no método 'setter' do atributo 'endereco'\n",
    "# para que o mesmo somente receba objetos da classe 'Endereco'.\n",
    "\n",
    "aluno1.endereco = Endereco(rua='B', numero=2, cidade='São Paulo')"
   ]
  },
  {
   "cell_type": "code",
   "execution_count": 21,
   "metadata": {},
   "outputs": [
    {
     "data": {
      "text/plain": [
       "<__main__.Endereco at 0x148ac992e88>"
      ]
     },
     "execution_count": 21,
     "metadata": {},
     "output_type": "execute_result"
    }
   ],
   "source": [
    "aluno1.endereco"
   ]
  },
  {
   "cell_type": "code",
   "execution_count": 22,
   "metadata": {},
   "outputs": [
    {
     "data": {
      "text/plain": [
       "'B'"
      ]
     },
     "execution_count": 22,
     "metadata": {},
     "output_type": "execute_result"
    }
   ],
   "source": [
    "aluno1.endereco.rua"
   ]
  },
  {
   "cell_type": "code",
   "execution_count": 23,
   "metadata": {},
   "outputs": [
    {
     "data": {
      "text/plain": [
       "2"
      ]
     },
     "execution_count": 23,
     "metadata": {},
     "output_type": "execute_result"
    }
   ],
   "source": [
    "aluno1.endereco.numero"
   ]
  },
  {
   "cell_type": "code",
   "execution_count": 24,
   "metadata": {},
   "outputs": [
    {
     "data": {
      "text/plain": [
       "'São Paulo'"
      ]
     },
     "execution_count": 24,
     "metadata": {},
     "output_type": "execute_result"
    }
   ],
   "source": [
    "aluno1.endereco.cidade"
   ]
  },
  {
   "cell_type": "code",
   "execution_count": 25,
   "metadata": {},
   "outputs": [
    {
     "ename": "TypeError",
     "evalue": "O valor deste atributo deve ser um objeto da classe Endereco.",
     "output_type": "error",
     "traceback": [
      "\u001b[1;31m---------------------------------------------------------------------------\u001b[0m",
      "\u001b[1;31mTypeError\u001b[0m                                 Traceback (most recent call last)",
      "\u001b[1;32m<ipython-input-25-81caddd204cc>\u001b[0m in \u001b[0;36m<module>\u001b[1;34m\u001b[0m\n\u001b[0;32m      1\u001b[0m \u001b[1;31m# Se atribuirmos um valor de outro tipo para o atributo 'endereco', o Python retornará um erro.\u001b[0m\u001b[1;33m\u001b[0m\u001b[1;33m\u001b[0m\u001b[1;33m\u001b[0m\u001b[0m\n\u001b[0;32m      2\u001b[0m \u001b[1;33m\u001b[0m\u001b[0m\n\u001b[1;32m----> 3\u001b[1;33m \u001b[0maluno1\u001b[0m\u001b[1;33m.\u001b[0m\u001b[0mendereco\u001b[0m \u001b[1;33m=\u001b[0m \u001b[1;34m'Um valor qualquer.'\u001b[0m\u001b[1;33m\u001b[0m\u001b[1;33m\u001b[0m\u001b[0m\n\u001b[0m",
      "\u001b[1;32m<ipython-input-13-822e66f14d16>\u001b[0m in \u001b[0;36mendereco\u001b[1;34m(self, endereco)\u001b[0m\n\u001b[0;32m     24\u001b[0m             \u001b[0mself\u001b[0m\u001b[1;33m.\u001b[0m\u001b[0m_endereco\u001b[0m \u001b[1;33m=\u001b[0m \u001b[0mendereco\u001b[0m\u001b[1;33m\u001b[0m\u001b[1;33m\u001b[0m\u001b[0m\n\u001b[0;32m     25\u001b[0m         \u001b[1;32melse\u001b[0m\u001b[1;33m:\u001b[0m\u001b[1;33m\u001b[0m\u001b[1;33m\u001b[0m\u001b[0m\n\u001b[1;32m---> 26\u001b[1;33m             \u001b[1;32mraise\u001b[0m \u001b[0mTypeError\u001b[0m\u001b[1;33m(\u001b[0m\u001b[1;34m\"O valor deste atributo deve ser um objeto da classe Endereco.\"\u001b[0m\u001b[1;33m)\u001b[0m\u001b[1;33m\u001b[0m\u001b[1;33m\u001b[0m\u001b[0m\n\u001b[0m",
      "\u001b[1;31mTypeError\u001b[0m: O valor deste atributo deve ser um objeto da classe Endereco."
     ]
    }
   ],
   "source": [
    "# Se atribuirmos um valor de outro tipo para o atributo 'endereco', o Python retornará \n",
    "# um erro.\n",
    "\n",
    "aluno1.endereco = 'Um valor qualquer.'"
   ]
  },
  {
   "cell_type": "code",
   "execution_count": 1,
   "metadata": {},
   "outputs": [],
   "source": [
    "# Pratique..."
   ]
  },
  {
   "cell_type": "code",
   "execution_count": null,
   "metadata": {},
   "outputs": [],
   "source": [
    "# Até a proxima aula."
   ]
  }
 ],
 "metadata": {
  "kernelspec": {
   "display_name": "Python 3",
   "language": "python",
   "name": "python3"
  },
  "language_info": {
   "codemirror_mode": {
    "name": "ipython",
    "version": 3
   },
   "file_extension": ".py",
   "mimetype": "text/x-python",
   "name": "python",
   "nbconvert_exporter": "python",
   "pygments_lexer": "ipython3",
   "version": "3.7.6"
  }
 },
 "nbformat": 4,
 "nbformat_minor": 4
}
