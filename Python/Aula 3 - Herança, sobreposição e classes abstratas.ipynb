{
 "cells": [
  {
   "cell_type": "markdown",
   "metadata": {},
   "source": [
    "## Aula 3 - Herança, sobreposição e classes abstratas"
   ]
  },
  {
   "cell_type": "code",
   "execution_count": 1,
   "metadata": {},
   "outputs": [],
   "source": [
    "# Herança: é a capacidade que uma classe tem de herdar atributos e métodos \n",
    "# de outras classes."
   ]
  },
  {
   "cell_type": "code",
   "execution_count": 2,
   "metadata": {},
   "outputs": [],
   "source": [
    "# Vejamos um exemplo:"
   ]
  },
  {
   "cell_type": "code",
   "execution_count": 3,
   "metadata": {},
   "outputs": [],
   "source": [
    "# Vamos criar uma classe 'Funcionario' com os atributos 'nome' e 'telefone' e o método \n",
    "# 'consulta_salario'. Para o atributo 'nome' vamos dar permissão apenas leitura. Para \n",
    "# o atributo 'telefone' vamos dar permissão para leitura e escrita.\n",
    "\n",
    "class Funcionario():\n",
    "    \n",
    "    def __init__(self, nome, telefone):\n",
    "        self._nome = nome\n",
    "        self._telefone = telefone\n",
    "        \n",
    "    @property\n",
    "    def nome(self):\n",
    "        return self._nome\n",
    "    \n",
    "    @property\n",
    "    def telefone(self):\n",
    "        return self._telefone\n",
    "    \n",
    "    @telefone.setter\n",
    "    def telefone(self, telefone):\n",
    "        self._telefone = telefone\n",
    "    \n",
    "    def consulta_salario(self):\n",
    "        return print(\"Retorna o valor do salário de {}.\" .format(self._nome))"
   ]
  },
  {
   "cell_type": "code",
   "execution_count": 4,
   "metadata": {},
   "outputs": [],
   "source": [
    "# Agora vamos criar uma classe 'Vendedor' que vai herdar todos os atributos e métodos da \n",
    "# classe 'Funcionario'.\n",
    "\n",
    "class Vendedor(Funcionario):\n",
    "    \n",
    "    def __init__(self, nome, telefone):\n",
    "        super().__init__(nome, telefone)"
   ]
  },
  {
   "cell_type": "code",
   "execution_count": 5,
   "metadata": {},
   "outputs": [],
   "source": [
    "vendedor1 = Vendedor('Fulano', '9999-9999')"
   ]
  },
  {
   "cell_type": "code",
   "execution_count": 6,
   "metadata": {},
   "outputs": [
    {
     "data": {
      "text/plain": [
       "'Fulano'"
      ]
     },
     "execution_count": 6,
     "metadata": {},
     "output_type": "execute_result"
    }
   ],
   "source": [
    "# O objeto 'vendedor1' criado a partir da classe 'Vendedor' téra um atributo 'nome' com \n",
    "# permissão apenas para leitura.\n",
    "\n",
    "vendedor1.nome"
   ]
  },
  {
   "cell_type": "code",
   "execution_count": 7,
   "metadata": {},
   "outputs": [
    {
     "ename": "AttributeError",
     "evalue": "can't set attribute",
     "output_type": "error",
     "traceback": [
      "\u001b[1;31m---------------------------------------------------------------------------\u001b[0m",
      "\u001b[1;31mAttributeError\u001b[0m                            Traceback (most recent call last)",
      "\u001b[1;32m<ipython-input-7-a2fda3de09f1>\u001b[0m in \u001b[0;36m<module>\u001b[1;34m\u001b[0m\n\u001b[0;32m      1\u001b[0m \u001b[1;31m# Caso seja atribuito algum valor ao atributo 'nome' o Python retornará um erro.\u001b[0m\u001b[1;33m\u001b[0m\u001b[1;33m\u001b[0m\u001b[1;33m\u001b[0m\u001b[0m\n\u001b[0;32m      2\u001b[0m \u001b[1;33m\u001b[0m\u001b[0m\n\u001b[1;32m----> 3\u001b[1;33m \u001b[0mvendedor1\u001b[0m\u001b[1;33m.\u001b[0m\u001b[0mnome\u001b[0m \u001b[1;33m=\u001b[0m \u001b[1;34m'Ciclano'\u001b[0m\u001b[1;33m\u001b[0m\u001b[1;33m\u001b[0m\u001b[0m\n\u001b[0m",
      "\u001b[1;31mAttributeError\u001b[0m: can't set attribute"
     ]
    }
   ],
   "source": [
    "# Caso seja atribuito algum valor ao atributo 'nome' o Python retornará um erro.\n",
    "\n",
    "vendedor1.nome = 'Ciclano'"
   ]
  },
  {
   "cell_type": "code",
   "execution_count": 8,
   "metadata": {},
   "outputs": [
    {
     "data": {
      "text/plain": [
       "'8888-8888'"
      ]
     },
     "execution_count": 8,
     "metadata": {},
     "output_type": "execute_result"
    }
   ],
   "source": [
    "# O objeto 'vendedor1' téra um atributo 'telefone' com permissão de leitura e escrita.\n",
    "\n",
    "vendedor1.telefone = '8888-8888'\n",
    "vendedor1.telefone"
   ]
  },
  {
   "cell_type": "code",
   "execution_count": 9,
   "metadata": {},
   "outputs": [
    {
     "name": "stdout",
     "output_type": "stream",
     "text": [
      "Retorna o valor do salário de Fulano.\n"
     ]
    }
   ],
   "source": [
    "# E o objeto 'vendedor1' téra o método 'consulta_salário'.\n",
    "\n",
    "vendedor1.consulta_salario()"
   ]
  },
  {
   "cell_type": "code",
   "execution_count": 10,
   "metadata": {},
   "outputs": [],
   "source": [
    "# Mas as classes (filhas) criadas a partir de outras classes (mães) não são apenas uma \n",
    "# cópia. Podemos implementar novos atributos e métodos que irão complementar a nova \n",
    "# classe.\n",
    "\n",
    "class Vendedor(Funcionario):\n",
    "    \n",
    "    def __init__(self, nome, telefone, qt_venda):\n",
    "        super().__init__(nome, telefone)\n",
    "        self._qt_venda = qt_venda\n",
    "        \n",
    "    @property\n",
    "    def qt_venda(self):\n",
    "        return self._qt_venda\n",
    "    \n",
    "    def executa_venda(self):\n",
    "        print(\"Executa uma operação de venda do vendedor {}.\" .format(self._nome))"
   ]
  },
  {
   "cell_type": "code",
   "execution_count": 11,
   "metadata": {},
   "outputs": [],
   "source": [
    "vendedor1 = Vendedor('Fulano', '9999-9999', 25)"
   ]
  },
  {
   "cell_type": "code",
   "execution_count": 12,
   "metadata": {},
   "outputs": [
    {
     "data": {
      "text/plain": [
       "25"
      ]
     },
     "execution_count": 12,
     "metadata": {},
     "output_type": "execute_result"
    }
   ],
   "source": [
    "# Agora o objeto 'vendedor1' terá também o atributo 'qt_venda' com permissão apenas para \n",
    "# leitura.\n",
    "\n",
    "vendedor1.qt_venda"
   ]
  },
  {
   "cell_type": "code",
   "execution_count": 13,
   "metadata": {},
   "outputs": [
    {
     "ename": "AttributeError",
     "evalue": "can't set attribute",
     "output_type": "error",
     "traceback": [
      "\u001b[1;31m---------------------------------------------------------------------------\u001b[0m",
      "\u001b[1;31mAttributeError\u001b[0m                            Traceback (most recent call last)",
      "\u001b[1;32m<ipython-input-13-c2a2951795a6>\u001b[0m in \u001b[0;36m<module>\u001b[1;34m\u001b[0m\n\u001b[0;32m      1\u001b[0m \u001b[1;31m# Caso seja atribuito algum valor ao atributo 'qt_venda' o Python retornará um erro.\u001b[0m\u001b[1;33m\u001b[0m\u001b[1;33m\u001b[0m\u001b[1;33m\u001b[0m\u001b[0m\n\u001b[0;32m      2\u001b[0m \u001b[1;33m\u001b[0m\u001b[0m\n\u001b[1;32m----> 3\u001b[1;33m \u001b[0mvendedor1\u001b[0m\u001b[1;33m.\u001b[0m\u001b[0mqt_venda\u001b[0m \u001b[1;33m=\u001b[0m \u001b[1;36m50\u001b[0m\u001b[1;33m\u001b[0m\u001b[1;33m\u001b[0m\u001b[0m\n\u001b[0m",
      "\u001b[1;31mAttributeError\u001b[0m: can't set attribute"
     ]
    }
   ],
   "source": [
    "# Caso seja atribuito algum valor ao atributo 'qt_venda' o Python retornará um erro.\n",
    "\n",
    "vendedor1.qt_venda = 50"
   ]
  },
  {
   "cell_type": "code",
   "execution_count": 14,
   "metadata": {},
   "outputs": [
    {
     "name": "stdout",
     "output_type": "stream",
     "text": [
      "Executa uma operação de venda do vendedor Fulano.\n"
     ]
    }
   ],
   "source": [
    "# O objeto 'vendedor1' terá também o método 'executa_venda'.\n",
    "\n",
    "vendedor1.executa_venda()"
   ]
  },
  {
   "cell_type": "code",
   "execution_count": 15,
   "metadata": {},
   "outputs": [],
   "source": [
    "# Sobreposição: é o ato de sobrescrever métodos."
   ]
  },
  {
   "cell_type": "code",
   "execution_count": 16,
   "metadata": {},
   "outputs": [],
   "source": [
    "# Na classe filha podemos alterar os métodas da classe mãe para que sejam executados de \n",
    "# formas específicas. Em Python implementamos a sobreposição criando um método na classe \n",
    "# filha com o mesmo nome do método da classe mãe."
   ]
  },
  {
   "cell_type": "code",
   "execution_count": 17,
   "metadata": {},
   "outputs": [],
   "source": [
    "class Vendedor(Funcionario):\n",
    "    \n",
    "    def __init__(self, nome, telefone):\n",
    "        super().__init__(nome, telefone)\n",
    "        \n",
    "    def consulta_salario(self):\n",
    "        return print(\"Retorna o valor do salário mais a comissão das vendas de {}.\" \n",
    "                     .format(self._nome))"
   ]
  },
  {
   "cell_type": "code",
   "execution_count": 18,
   "metadata": {},
   "outputs": [],
   "source": [
    "funcionario1 = Funcionario('Fulano', '9999-9999')\n",
    "vendedor1 = Vendedor('Ciclano', '8888-8888')"
   ]
  },
  {
   "cell_type": "code",
   "execution_count": 19,
   "metadata": {},
   "outputs": [
    {
     "name": "stdout",
     "output_type": "stream",
     "text": [
      "Retorna o valor do salário de Fulano.\n"
     ]
    }
   ],
   "source": [
    "funcionario1.consulta_salario()"
   ]
  },
  {
   "cell_type": "code",
   "execution_count": 20,
   "metadata": {},
   "outputs": [
    {
     "name": "stdout",
     "output_type": "stream",
     "text": [
      "Retorna o valor do salário mais a comissão das vendas de Ciclano.\n"
     ]
    }
   ],
   "source": [
    "vendedor1.consulta_salario()"
   ]
  },
  {
   "cell_type": "code",
   "execution_count": 21,
   "metadata": {},
   "outputs": [],
   "source": [
    "# Classes abstratas: são classes que não permitem que sejam criados objetos a partir dela."
   ]
  },
  {
   "cell_type": "code",
   "execution_count": 22,
   "metadata": {},
   "outputs": [],
   "source": [
    "# Vamos considerar que não queiramos criar nunhum objeto a partir da classe 'Funcionario'.\n",
    "# Precisamos que sejam criadas classes específicas para cada tipo de funcionário e os \n",
    "# objetos sejam criados a partir das classes filhas."
   ]
  },
  {
   "cell_type": "code",
   "execution_count": 23,
   "metadata": {},
   "outputs": [],
   "source": [
    "# Em Python existe um módulo que transforma as classes em classes abstratas.\n",
    "\n",
    "from abc import ABC, abstractmethod"
   ]
  },
  {
   "cell_type": "code",
   "execution_count": 24,
   "metadata": {},
   "outputs": [],
   "source": [
    "# A classe 'Funcionario' precisa herdar a classe 'ABC' e o construtor precisa ser definido \n",
    "# como um método abstrado.\n",
    "\n",
    "class Funcionario(ABC):\n",
    "    \n",
    "    @abstractmethod\n",
    "    def __init__(self, nome, telefone):\n",
    "        self._nome = nome\n",
    "        self._telefone = telefone\n",
    "        \n",
    "    @property\n",
    "    def nome(self):\n",
    "        return self._nome\n",
    "    \n",
    "    @property\n",
    "    def telefone(self):\n",
    "        return self._telefone\n",
    "    \n",
    "    @telefone.setter\n",
    "    def telefone(self, telefone):\n",
    "        self._telefone = telefone\n",
    "    \n",
    "    def consulta_salario(self):\n",
    "        return print(\"Retorna o valor do salário de {}.\" .format(self._nome))"
   ]
  },
  {
   "cell_type": "code",
   "execution_count": 25,
   "metadata": {},
   "outputs": [
    {
     "ename": "TypeError",
     "evalue": "Can't instantiate abstract class Funcionario with abstract methods __init__",
     "output_type": "error",
     "traceback": [
      "\u001b[1;31m---------------------------------------------------------------------------\u001b[0m",
      "\u001b[1;31mTypeError\u001b[0m                                 Traceback (most recent call last)",
      "\u001b[1;32m<ipython-input-25-679323569e7f>\u001b[0m in \u001b[0;36m<module>\u001b[1;34m\u001b[0m\n\u001b[0;32m      1\u001b[0m \u001b[1;31m# Assim, não conseguiremos instanciar um objeto a partir da classe 'Funcionário'\u001b[0m\u001b[1;33m\u001b[0m\u001b[1;33m\u001b[0m\u001b[1;33m\u001b[0m\u001b[0m\n\u001b[0;32m      2\u001b[0m \u001b[1;33m\u001b[0m\u001b[0m\n\u001b[1;32m----> 3\u001b[1;33m \u001b[0mfuncionario1\u001b[0m \u001b[1;33m=\u001b[0m \u001b[0mFuncionario\u001b[0m\u001b[1;33m(\u001b[0m\u001b[1;34m'Fulano'\u001b[0m\u001b[1;33m,\u001b[0m \u001b[1;34m'9999-9999'\u001b[0m\u001b[1;33m)\u001b[0m\u001b[1;33m\u001b[0m\u001b[1;33m\u001b[0m\u001b[0m\n\u001b[0m",
      "\u001b[1;31mTypeError\u001b[0m: Can't instantiate abstract class Funcionario with abstract methods __init__"
     ]
    }
   ],
   "source": [
    "# Assim, não conseguiremos instanciar um objeto a partir da classe 'Funcionário'\n",
    "\n",
    "funcionario1 = Funcionario('Fulano', '9999-9999')"
   ]
  },
  {
   "cell_type": "code",
   "execution_count": 26,
   "metadata": {},
   "outputs": [],
   "source": [
    "class Vendedor(Funcionario):\n",
    "    \n",
    "    def __init__(self, nome, telefone):\n",
    "        super().__init__(nome, telefone)"
   ]
  },
  {
   "cell_type": "code",
   "execution_count": 27,
   "metadata": {},
   "outputs": [
    {
     "data": {
      "text/plain": [
       "'Fulano'"
      ]
     },
     "execution_count": 27,
     "metadata": {},
     "output_type": "execute_result"
    }
   ],
   "source": [
    "# Os objetos terão que ser instanciados a partir da classe filha.\n",
    "\n",
    "vendedor1 = Vendedor('Fulano', '9999-9999')\n",
    "vendedor1.nome"
   ]
  },
  {
   "cell_type": "code",
   "execution_count": 28,
   "metadata": {},
   "outputs": [],
   "source": [
    "# O resultado final da nossa aula fica assim:\n",
    "\n",
    "from abc import ABC, abstractmethod\n",
    "\n",
    "class Funcionario(ABC):\n",
    "    \n",
    "    @abstractmethod\n",
    "    def __init__(self, nome, telefone):\n",
    "        self._nome = nome\n",
    "        self._telefone = telefone\n",
    "        \n",
    "    @property\n",
    "    def nome(self):\n",
    "        return self._nome\n",
    "    \n",
    "    @property\n",
    "    def telefone(self):\n",
    "        return self._telefone\n",
    "    \n",
    "    @telefone.setter\n",
    "    def telefone(self, telefone):\n",
    "        self._telefone = telefone\n",
    "    \n",
    "    def consulta_salario(self):\n",
    "        return print(\"Retorna o valor do salário de {}.\" .format(self._nome))\n",
    "    \n",
    "class Vendedor(Funcionario):\n",
    "    \n",
    "    def __init__(self, nome, telefone, qt_venda):\n",
    "        super().__init__(nome, telefone)\n",
    "        self._qt_venda = qt_venda\n",
    "        \n",
    "    @property\n",
    "    def qt_venda(self):\n",
    "        return self._qt_venda\n",
    "    \n",
    "    def executa_venda(self):\n",
    "        print(\"Executa uma operação de venda do vendedor {}.\" .format(self._nome))\n",
    "        \n",
    "    def consulta_salario(self):\n",
    "        return print(\"Retorna o valor do salário mais a comissão das vendas de {}.\" \n",
    "                     .format(self._nome))"
   ]
  },
  {
   "cell_type": "code",
   "execution_count": 29,
   "metadata": {},
   "outputs": [],
   "source": [
    "# Teste o comportamento..."
   ]
  },
  {
   "cell_type": "code",
   "execution_count": 30,
   "metadata": {},
   "outputs": [],
   "source": [
    "# Até a próxima aula!"
   ]
  }
 ],
 "metadata": {
  "kernelspec": {
   "display_name": "Python 3",
   "language": "python",
   "name": "python3"
  },
  "language_info": {
   "codemirror_mode": {
    "name": "ipython",
    "version": 3
   },
   "file_extension": ".py",
   "mimetype": "text/x-python",
   "name": "python",
   "nbconvert_exporter": "python",
   "pygments_lexer": "ipython3",
   "version": "3.7.6"
  }
 },
 "nbformat": 4,
 "nbformat_minor": 4
}
