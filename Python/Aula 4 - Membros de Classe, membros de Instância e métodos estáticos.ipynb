{
 "cells": [
  {
   "cell_type": "markdown",
   "metadata": {},
   "source": [
    "## Aula 4 - Membros de Classe, membros de Instância e métodos estáticos"
   ]
  },
  {
   "cell_type": "code",
   "execution_count": 1,
   "metadata": {},
   "outputs": [],
   "source": [
    "# Em Python as classes também são objetos, assim os atributos e métodos podem estar \n",
    "# associados a uma determinada classe ou aos objetos criados por esta classe."
   ]
  },
  {
   "cell_type": "code",
   "execution_count": 2,
   "metadata": {},
   "outputs": [],
   "source": [
    "# Vamos nos referir aos atributos e métodos como membros.\n",
    "# Os membros associados a classe são chamados de menbros de classe.\n",
    "# Os membros associados aos objetos criados pela classe são chamados de membros de \n",
    "# instância."
   ]
  },
  {
   "cell_type": "code",
   "execution_count": 3,
   "metadata": {},
   "outputs": [],
   "source": [
    "class Pessoa():\n",
    "    nome = 'Fulano' # Membro de classe\n",
    "    def __init__(self):\n",
    "        self.peso = 80.0 # Membro de instância"
   ]
  },
  {
   "cell_type": "code",
   "execution_count": 4,
   "metadata": {},
   "outputs": [
    {
     "data": {
      "text/plain": [
       "'Fulano'"
      ]
     },
     "execution_count": 4,
     "metadata": {},
     "output_type": "execute_result"
    }
   ],
   "source": [
    "# Assim acessamos o atributo 'nome' a partir da classe 'Pessoa'.\n",
    "\n",
    "Pessoa.nome"
   ]
  },
  {
   "cell_type": "code",
   "execution_count": 5,
   "metadata": {},
   "outputs": [
    {
     "ename": "AttributeError",
     "evalue": "type object 'Pessoa' has no attribute 'peso'",
     "output_type": "error",
     "traceback": [
      "\u001b[1;31m---------------------------------------------------------------------------\u001b[0m",
      "\u001b[1;31mAttributeError\u001b[0m                            Traceback (most recent call last)",
      "\u001b[1;32m<ipython-input-5-3bca5c1ac09e>\u001b[0m in \u001b[0;36m<module>\u001b[1;34m\u001b[0m\n\u001b[0;32m      1\u001b[0m \u001b[1;31m# Mas não conseguimos acessar o atributo 'peso'\u001b[0m\u001b[1;33m\u001b[0m\u001b[1;33m\u001b[0m\u001b[1;33m\u001b[0m\u001b[0m\n\u001b[1;32m----> 2\u001b[1;33m \u001b[0mPessoa\u001b[0m\u001b[1;33m.\u001b[0m\u001b[0mpeso\u001b[0m\u001b[1;33m\u001b[0m\u001b[1;33m\u001b[0m\u001b[0m\n\u001b[0m",
      "\u001b[1;31mAttributeError\u001b[0m: type object 'Pessoa' has no attribute 'peso'"
     ]
    }
   ],
   "source": [
    "# Mas não conseguimos acessar o atributo 'peso'\n",
    "\n",
    "Pessoa.peso"
   ]
  },
  {
   "cell_type": "code",
   "execution_count": 6,
   "metadata": {},
   "outputs": [
    {
     "data": {
      "text/plain": [
       "80.0"
      ]
     },
     "execution_count": 6,
     "metadata": {},
     "output_type": "execute_result"
    }
   ],
   "source": [
    "# É necessário criar um objeto a partir da classe 'Pessoa' para acessarmos o atributo \n",
    "# 'peso' associado ao objeto criado.\n",
    "\n",
    "pessoa1 = Pessoa()\n",
    "pessoa1.peso"
   ]
  },
  {
   "cell_type": "code",
   "execution_count": 7,
   "metadata": {},
   "outputs": [],
   "source": [
    "# Já comentamos que o Pythom cria automaticamente vários atributos e métodos de uso \n",
    "# específico. Vamos usar o atributo '__dict__' para visualizarmos os membros da \n",
    "# classe 'Pessoa'."
   ]
  },
  {
   "cell_type": "code",
   "execution_count": 8,
   "metadata": {},
   "outputs": [
    {
     "name": "stdout",
     "output_type": "stream",
     "text": [
      "mappingproxy({'__dict__': <attribute '__dict__' of 'Pessoa' objects>,\n",
      "              '__doc__': None,\n",
      "              '__init__': <function Pessoa.__init__ at 0x000001582B5D3EE8>,\n",
      "              '__module__': '__main__',\n",
      "              '__weakref__': <attribute '__weakref__' of 'Pessoa' objects>,\n",
      "              'nome': 'Fulano'})\n"
     ]
    }
   ],
   "source": [
    "# Note que na classe 'Pesssoa' tem o atributo 'nome', mas não tem o atributo 'peso' \n",
    "\n",
    "from pprint import pprint\n",
    "pprint(Pessoa.__dict__)"
   ]
  },
  {
   "cell_type": "code",
   "execution_count": 9,
   "metadata": {},
   "outputs": [
    {
     "name": "stdout",
     "output_type": "stream",
     "text": [
      "{'peso': 80.0}\n"
     ]
    }
   ],
   "source": [
    "# Quem tem o atributo 'peso' é o objeto 'pessoa1'\n",
    "\n",
    "pprint(pessoa1.__dict__)"
   ]
  },
  {
   "cell_type": "code",
   "execution_count": 10,
   "metadata": {},
   "outputs": [],
   "source": [
    "# Se tenstarmos alterar o atributo 'peso' desta forma, estaremos criando um novo atributo \n",
    "# de classe chamado 'peso'.\n",
    "\n",
    "Pessoa.peso = 70"
   ]
  },
  {
   "cell_type": "code",
   "execution_count": 11,
   "metadata": {},
   "outputs": [
    {
     "name": "stdout",
     "output_type": "stream",
     "text": [
      "mappingproxy({'__dict__': <attribute '__dict__' of 'Pessoa' objects>,\n",
      "              '__doc__': None,\n",
      "              '__init__': <function Pessoa.__init__ at 0x000001582B5D3EE8>,\n",
      "              '__module__': '__main__',\n",
      "              '__weakref__': <attribute '__weakref__' of 'Pessoa' objects>,\n",
      "              'nome': 'Fulano',\n",
      "              'peso': 70})\n"
     ]
    }
   ],
   "source": [
    "pprint(Pessoa.__dict__)"
   ]
  },
  {
   "cell_type": "code",
   "execution_count": 12,
   "metadata": {},
   "outputs": [],
   "source": [
    "# E se tenstarmos alterar o atributo 'nome' desta forma, estaremos criando um novo \n",
    "# atributo de instância chamado 'nome'.\n",
    "\n",
    "pessoa1.nome = 'Ciclano'"
   ]
  },
  {
   "cell_type": "code",
   "execution_count": 13,
   "metadata": {
    "scrolled": true
   },
   "outputs": [
    {
     "name": "stdout",
     "output_type": "stream",
     "text": [
      "{'nome': 'Ciclano', 'peso': 80.0}\n"
     ]
    }
   ],
   "source": [
    "pprint(pessoa1.__dict__)"
   ]
  },
  {
   "cell_type": "code",
   "execution_count": 14,
   "metadata": {},
   "outputs": [
    {
     "name": "stdout",
     "output_type": "stream",
     "text": [
      "Ciclano\n",
      "80.0\n"
     ]
    }
   ],
   "source": [
    "# Os membros de instância se sobrepoem aos membros de classe.\n",
    "# Assim, os valores retornados abaixo referem-se aos atributos de instância.\n",
    "\n",
    "print(pessoa1.nome)\n",
    "print(pessoa1.peso)"
   ]
  },
  {
   "cell_type": "code",
   "execution_count": 15,
   "metadata": {},
   "outputs": [
    {
     "data": {
      "text/plain": [
       "'Fulano'"
      ]
     },
     "execution_count": 15,
     "metadata": {},
     "output_type": "execute_result"
    }
   ],
   "source": [
    "# Removendo o atributo de instância conseguimos visualizar o valor do atributo de classe.\n",
    "\n",
    "del(pessoa1.nome)\n",
    "pessoa1.nome"
   ]
  },
  {
   "cell_type": "code",
   "execution_count": 16,
   "metadata": {},
   "outputs": [],
   "source": [
    "# Agora vamos ver como se aplica esses conceitos para os métodos."
   ]
  },
  {
   "cell_type": "code",
   "execution_count": 17,
   "metadata": {},
   "outputs": [],
   "source": [
    "# Em Python todos os métodos estão no escopo da classe. Porém, por padrão, o Python \n",
    "# considera os métodos como de instância. Ou seja, é preciso explitar para o Python \n",
    "# que o método é de classe, caso contrário, o mesmo será considerado de instância."
   ]
  },
  {
   "cell_type": "code",
   "execution_count": 18,
   "metadata": {},
   "outputs": [],
   "source": [
    "# Isso está relacionado a forma como o Python foi concebido.\n",
    "# Ao passarmos um objeto como parâmetro para um método, o método será invocado associado \n",
    "# ao objeto passado como parâmetro, por isso é considerado um método de instância."
   ]
  },
  {
   "cell_type": "code",
   "execution_count": 19,
   "metadata": {},
   "outputs": [],
   "source": [
    "# Nos métodos de classe, passamos a instância da classe como parâmetro através da palavra\n",
    "# reservada 'cls'. Nos métodos de instância, passamos a instância do objeto como parâmetro\n",
    "# através da palavra reservada 'self'."
   ]
  },
  {
   "cell_type": "code",
   "execution_count": 20,
   "metadata": {},
   "outputs": [],
   "source": [
    "# Uma forma elegante de explicitarmos um método de classe para o Python é através do \n",
    "# decorator '@classmethod'."
   ]
  },
  {
   "cell_type": "code",
   "execution_count": 21,
   "metadata": {},
   "outputs": [],
   "source": [
    "class Metodos():\n",
    "    \n",
    "    @classmethod\n",
    "    def metodo_classe(cls, nome):\n",
    "        cls.nome = nome\n",
    "        print(nome)\n",
    "        print(\"Este é um método de classe.\")\n",
    "    \n",
    "    def metodo_instancia(self, nome):\n",
    "        self.nome = nome\n",
    "        print(self.nome)\n",
    "        print(\"Este é um método de instância.\")"
   ]
  },
  {
   "cell_type": "code",
   "execution_count": 22,
   "metadata": {},
   "outputs": [
    {
     "name": "stdout",
     "output_type": "stream",
     "text": [
      "Fulano da classe\n",
      "Este é um método de classe.\n"
     ]
    }
   ],
   "source": [
    "# Os métodos de classe são invocados a partir da classe.\n",
    "\n",
    "Metodos.metodo_classe('Fulano da classe')"
   ]
  },
  {
   "cell_type": "code",
   "execution_count": 23,
   "metadata": {},
   "outputs": [
    {
     "name": "stdout",
     "output_type": "stream",
     "text": [
      "Fulano da classe\n",
      "Este é um método de classe.\n"
     ]
    }
   ],
   "source": [
    "# E os métodos de classe também podem ser invocados a partir da instância de um objeto.\n",
    "\n",
    "Metodos().metodo_classe('Fulano da classe')"
   ]
  },
  {
   "cell_type": "code",
   "execution_count": 24,
   "metadata": {},
   "outputs": [
    {
     "name": "stdout",
     "output_type": "stream",
     "text": [
      "Ciclano da instância\n",
      "Este é um método de instância.\n"
     ]
    }
   ],
   "source": [
    "# Os métodos de instância são invocados a partir da instância de um objeto.\n",
    "\n",
    "Metodos().metodo_instancia('Ciclano da instância')"
   ]
  },
  {
   "cell_type": "code",
   "execution_count": 25,
   "metadata": {},
   "outputs": [
    {
     "ename": "TypeError",
     "evalue": "metodo_instancia() missing 1 required positional argument: 'nome'",
     "output_type": "error",
     "traceback": [
      "\u001b[1;31m---------------------------------------------------------------------------\u001b[0m",
      "\u001b[1;31mTypeError\u001b[0m                                 Traceback (most recent call last)",
      "\u001b[1;32m<ipython-input-25-aee47c08298b>\u001b[0m in \u001b[0;36m<module>\u001b[1;34m\u001b[0m\n\u001b[0;32m      1\u001b[0m \u001b[1;31m# Mas os métodos de instância não podem ser invodados a partir da classe.\u001b[0m\u001b[1;33m\u001b[0m\u001b[1;33m\u001b[0m\u001b[1;33m\u001b[0m\u001b[0m\n\u001b[1;32m----> 2\u001b[1;33m \u001b[0mMetodos\u001b[0m\u001b[1;33m.\u001b[0m\u001b[0mmetodo_instancia\u001b[0m\u001b[1;33m(\u001b[0m\u001b[1;34m'Ciclano da instância'\u001b[0m\u001b[1;33m)\u001b[0m\u001b[1;33m\u001b[0m\u001b[1;33m\u001b[0m\u001b[0m\n\u001b[0m",
      "\u001b[1;31mTypeError\u001b[0m: metodo_instancia() missing 1 required positional argument: 'nome'"
     ]
    }
   ],
   "source": [
    "# Mas os métodos de instância não podem ser invodados a partir da classe.\n",
    "\n",
    "Metodos.metodo_instancia('Ciclano da instância')"
   ]
  },
  {
   "cell_type": "code",
   "execution_count": 26,
   "metadata": {},
   "outputs": [],
   "source": [
    "# Vamos ver um outro exemplo:"
   ]
  },
  {
   "cell_type": "code",
   "execution_count": 27,
   "metadata": {},
   "outputs": [],
   "source": [
    "class Veiculos():\n",
    "    \n",
    "    qt_veiculos = 0\n",
    "    \n",
    "    def __init__(self):\n",
    "        self.adiciona_veiculo()\n",
    "        \n",
    "    def __del__(self):\n",
    "        self.remove_veiculo()\n",
    "        \n",
    "    @classmethod\n",
    "    def adiciona_veiculo(cls):\n",
    "        cls.qt_veiculos += 1\n",
    "        \n",
    "    @classmethod\n",
    "    def remove_veiculo(cls):\n",
    "        cls.qt_veiculos -= 1"
   ]
  },
  {
   "cell_type": "code",
   "execution_count": 28,
   "metadata": {},
   "outputs": [
    {
     "name": "stdout",
     "output_type": "stream",
     "text": [
      "mappingproxy({'__del__': <function Veiculos.__del__ at 0x000001582B69B678>,\n",
      "              '__dict__': <attribute '__dict__' of 'Veiculos' objects>,\n",
      "              '__doc__': None,\n",
      "              '__init__': <function Veiculos.__init__ at 0x000001582B69B5E8>,\n",
      "              '__module__': '__main__',\n",
      "              '__weakref__': <attribute '__weakref__' of 'Veiculos' objects>,\n",
      "              'adiciona_veiculo': <classmethod object at 0x000001582B6979C8>,\n",
      "              'qt_veiculos': 0,\n",
      "              'remove_veiculo': <classmethod object at 0x000001582B697048>})\n"
     ]
    }
   ],
   "source": [
    "# A classe veículo possui um atributo de classe 'qt_veiculo' com valor '0' e dois métodos\n",
    "# de classe para adicionar e remover veículos.\n",
    "\n",
    "pprint(Veiculos.__dict__)"
   ]
  },
  {
   "cell_type": "code",
   "execution_count": 29,
   "metadata": {},
   "outputs": [],
   "source": [
    "# Ao criamos o objeto 'veiculo1', o método '__init__' invoca o método de classe \n",
    "# 'adiciona_veiculo'.\n",
    "\n",
    "veiculo1 =  Veiculos()"
   ]
  },
  {
   "cell_type": "code",
   "execution_count": 30,
   "metadata": {},
   "outputs": [
    {
     "name": "stdout",
     "output_type": "stream",
     "text": [
      "{}\n"
     ]
    }
   ],
   "source": [
    "# No objeto 'veiculo1' não tem nada.\n",
    "\n",
    "pprint(veiculo1.__dict__)"
   ]
  },
  {
   "cell_type": "code",
   "execution_count": 31,
   "metadata": {},
   "outputs": [
    {
     "name": "stdout",
     "output_type": "stream",
     "text": [
      "mappingproxy({'__del__': <function Veiculos.__del__ at 0x000001582B69B678>,\n",
      "              '__dict__': <attribute '__dict__' of 'Veiculos' objects>,\n",
      "              '__doc__': None,\n",
      "              '__init__': <function Veiculos.__init__ at 0x000001582B69B5E8>,\n",
      "              '__module__': '__main__',\n",
      "              '__weakref__': <attribute '__weakref__' of 'Veiculos' objects>,\n",
      "              'adiciona_veiculo': <classmethod object at 0x000001582B6979C8>,\n",
      "              'qt_veiculos': 1,\n",
      "              'remove_veiculo': <classmethod object at 0x000001582B697048>})\n"
     ]
    }
   ],
   "source": [
    "# O atributo de classe 'qt_veiculo' é incrementado em uma unidade.\n",
    "\n",
    "pprint(Veiculos.__dict__)"
   ]
  },
  {
   "cell_type": "code",
   "execution_count": 32,
   "metadata": {},
   "outputs": [],
   "source": [
    "# O mesmo acontece para cada veículo criado.\n",
    "\n",
    "veiculo2 =  Veiculos()\n",
    "veiculo3 =  Veiculos()\n",
    "veiculo4 =  Veiculos()\n",
    "veiculo5 =  Veiculos()"
   ]
  },
  {
   "cell_type": "code",
   "execution_count": 33,
   "metadata": {},
   "outputs": [
    {
     "name": "stdout",
     "output_type": "stream",
     "text": [
      "mappingproxy({'__del__': <function Veiculos.__del__ at 0x000001582B69B678>,\n",
      "              '__dict__': <attribute '__dict__' of 'Veiculos' objects>,\n",
      "              '__doc__': None,\n",
      "              '__init__': <function Veiculos.__init__ at 0x000001582B69B5E8>,\n",
      "              '__module__': '__main__',\n",
      "              '__weakref__': <attribute '__weakref__' of 'Veiculos' objects>,\n",
      "              'adiciona_veiculo': <classmethod object at 0x000001582B6979C8>,\n",
      "              'qt_veiculos': 5,\n",
      "              'remove_veiculo': <classmethod object at 0x000001582B697048>})\n"
     ]
    }
   ],
   "source": [
    "pprint(Veiculos.__dict__)"
   ]
  },
  {
   "cell_type": "code",
   "execution_count": 34,
   "metadata": {},
   "outputs": [],
   "source": [
    "# E para cada vículo removido, o método '__del__' invoca o método de classe \n",
    "# 'remove_veiculo'.\n",
    "\n",
    "del(veiculo1)\n",
    "del(veiculo2)\n",
    "del(veiculo3)\n",
    "del(veiculo4)\n",
    "del(veiculo5)"
   ]
  },
  {
   "cell_type": "code",
   "execution_count": 35,
   "metadata": {},
   "outputs": [
    {
     "name": "stdout",
     "output_type": "stream",
     "text": [
      "mappingproxy({'__del__': <function Veiculos.__del__ at 0x000001582B69B678>,\n",
      "              '__dict__': <attribute '__dict__' of 'Veiculos' objects>,\n",
      "              '__doc__': None,\n",
      "              '__init__': <function Veiculos.__init__ at 0x000001582B69B5E8>,\n",
      "              '__module__': '__main__',\n",
      "              '__weakref__': <attribute '__weakref__' of 'Veiculos' objects>,\n",
      "              'adiciona_veiculo': <classmethod object at 0x000001582B6979C8>,\n",
      "              'qt_veiculos': 0,\n",
      "              'remove_veiculo': <classmethod object at 0x000001582B697048>})\n"
     ]
    }
   ],
   "source": [
    "pprint(Veiculos.__dict__)"
   ]
  },
  {
   "cell_type": "code",
   "execution_count": 36,
   "metadata": {},
   "outputs": [],
   "source": [
    "# Métodos estáticos: são métodos de classe que não recebem um objeto como parâmetro.\n",
    "# Os métodos estáticos também precisam ser definidos explicitamente para o Python.\n",
    "# Uma forma elegante de fazermos isto é através do decorator '@staticmethod'."
   ]
  },
  {
   "cell_type": "code",
   "execution_count": 37,
   "metadata": {},
   "outputs": [],
   "source": [
    "class Calculadora():\n",
    "    \n",
    "    @staticmethod\n",
    "    def adicionar(x, y):\n",
    "        return x + y\n",
    "    \n",
    "    @staticmethod\n",
    "    def subtrair(x, y):\n",
    "        return x - y\n",
    "    \n",
    "    @staticmethod\n",
    "    def multiplicar(x, y):\n",
    "        return x * y\n",
    "    \n",
    "    @staticmethod\n",
    "    def dividir(x, y):\n",
    "        return x / y"
   ]
  },
  {
   "cell_type": "code",
   "execution_count": 38,
   "metadata": {},
   "outputs": [
    {
     "data": {
      "text/plain": [
       "13"
      ]
     },
     "execution_count": 38,
     "metadata": {},
     "output_type": "execute_result"
    }
   ],
   "source": [
    "# Note que neste caso, não precisamos criar objetos para invocar as operações \n",
    "# implementadas na classe.\n",
    "\n",
    "Calculadora.adicionar(5, 8)"
   ]
  },
  {
   "cell_type": "code",
   "execution_count": 39,
   "metadata": {},
   "outputs": [
    {
     "data": {
      "text/plain": [
       "2"
      ]
     },
     "execution_count": 39,
     "metadata": {},
     "output_type": "execute_result"
    }
   ],
   "source": [
    "Calculadora.subtrair(3, 1)"
   ]
  },
  {
   "cell_type": "code",
   "execution_count": 40,
   "metadata": {},
   "outputs": [
    {
     "data": {
      "text/plain": [
       "8"
      ]
     },
     "execution_count": 40,
     "metadata": {},
     "output_type": "execute_result"
    }
   ],
   "source": [
    "Calculadora.multiplicar(2, 4)"
   ]
  },
  {
   "cell_type": "code",
   "execution_count": 41,
   "metadata": {},
   "outputs": [
    {
     "data": {
      "text/plain": [
       "3.0"
      ]
     },
     "execution_count": 41,
     "metadata": {},
     "output_type": "execute_result"
    }
   ],
   "source": [
    "Calculadora.dividir(9, 3)"
   ]
  },
  {
   "cell_type": "code",
   "execution_count": 42,
   "metadata": {},
   "outputs": [
    {
     "data": {
      "text/plain": [
       "3"
      ]
     },
     "execution_count": 42,
     "metadata": {},
     "output_type": "execute_result"
    }
   ],
   "source": [
    "# Mas os métodos estáticos também podem ser invocados a partir de uma instância.\n",
    "\n",
    "c = Calculadora()\n",
    "c.adicionar(1, 2)"
   ]
  },
  {
   "cell_type": "code",
   "execution_count": 43,
   "metadata": {},
   "outputs": [],
   "source": [
    "# Faça testes e pratique."
   ]
  },
  {
   "cell_type": "code",
   "execution_count": 44,
   "metadata": {},
   "outputs": [],
   "source": [
    "# Até a próxima aula!"
   ]
  }
 ],
 "metadata": {
  "kernelspec": {
   "display_name": "Python 3",
   "language": "python",
   "name": "python3"
  },
  "language_info": {
   "codemirror_mode": {
    "name": "ipython",
    "version": 3
   },
   "file_extension": ".py",
   "mimetype": "text/x-python",
   "name": "python",
   "nbconvert_exporter": "python",
   "pygments_lexer": "ipython3",
   "version": "3.7.6"
  }
 },
 "nbformat": 4,
 "nbformat_minor": 4
}
